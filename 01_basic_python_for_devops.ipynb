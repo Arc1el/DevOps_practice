{
 "cells": [
  {
   "cell_type": "markdown",
   "metadata": {},
   "source": [
    "### 파이썬 설치 및  실행\n"
   ]
  },
  {
   "cell_type": "code",
   "execution_count": 1,
   "metadata": {},
   "outputs": [
    {
     "name": "stdout",
     "output_type": "stream",
     "text": [
      "Python 3.9.12\n"
     ]
    }
   ],
   "source": [
    "!python --version"
   ]
  },
  {
   "cell_type": "markdown",
   "metadata": {},
   "source": [
    "### 주피터 노트북 설치 및 실행\n",
    "해당 부분은 주피터 노트북을 직접 설치 해도 되지만, VScode의 확장프로그램이 편할 수 있으므로 편한것을 사용하자."
   ]
  },
  {
   "cell_type": "code",
   "execution_count": 4,
   "metadata": {},
   "outputs": [
    {
     "name": "stdout",
     "output_type": "stream",
     "text": [
      "\u001b[33mDEPRECATION: Configuring installation scheme with distutils config files is deprecated and will no longer work in the near future. If you are using a Homebrew or Linuxbrew Python, please see discussion at https://github.com/Homebrew/homebrew-core/issues/76621\u001b[0m\u001b[33m\n",
      "\u001b[0mRequirement already satisfied: jupyter in /opt/homebrew/lib/python3.9/site-packages (1.0.0)\n",
      "Requirement already satisfied: notebook in /opt/homebrew/lib/python3.9/site-packages (from jupyter) (6.4.12)\n",
      "Requirement already satisfied: nbconvert in /opt/homebrew/lib/python3.9/site-packages (from jupyter) (6.5.3)\n",
      "Requirement already satisfied: ipywidgets in /opt/homebrew/lib/python3.9/site-packages (from jupyter) (8.0.1)\n",
      "Requirement already satisfied: qtconsole in /opt/homebrew/lib/python3.9/site-packages (from jupyter) (5.3.1)\n",
      "Requirement already satisfied: jupyter-console in /opt/homebrew/lib/python3.9/site-packages (from jupyter) (6.4.4)\n",
      "Requirement already satisfied: ipykernel in /opt/homebrew/lib/python3.9/site-packages (from jupyter) (6.15.1)\n",
      "Requirement already satisfied: appnope in /opt/homebrew/lib/python3.9/site-packages (from ipykernel->jupyter) (0.1.3)\n",
      "Requirement already satisfied: pyzmq>=17 in /opt/homebrew/lib/python3.9/site-packages (from ipykernel->jupyter) (23.2.1)\n",
      "Requirement already satisfied: jupyter-client>=6.1.12 in /opt/homebrew/lib/python3.9/site-packages (from ipykernel->jupyter) (7.3.4)\n",
      "Requirement already satisfied: packaging in /opt/homebrew/lib/python3.9/site-packages (from ipykernel->jupyter) (21.3)\n",
      "Requirement already satisfied: nest-asyncio in /opt/homebrew/lib/python3.9/site-packages (from ipykernel->jupyter) (1.5.5)\n",
      "Requirement already satisfied: psutil in /opt/homebrew/lib/python3.9/site-packages (from ipykernel->jupyter) (5.9.1)\n",
      "Requirement already satisfied: debugpy>=1.0 in /opt/homebrew/lib/python3.9/site-packages (from ipykernel->jupyter) (1.6.3)\n",
      "Requirement already satisfied: traitlets>=5.1.0 in /opt/homebrew/lib/python3.9/site-packages (from ipykernel->jupyter) (5.3.0)\n",
      "Requirement already satisfied: matplotlib-inline>=0.1 in /opt/homebrew/lib/python3.9/site-packages (from ipykernel->jupyter) (0.1.6)\n",
      "Requirement already satisfied: ipython>=7.23.1 in /opt/homebrew/lib/python3.9/site-packages (from ipykernel->jupyter) (8.4.0)\n",
      "Requirement already satisfied: tornado>=6.1 in /opt/homebrew/lib/python3.9/site-packages (from ipykernel->jupyter) (6.2)\n",
      "Requirement already satisfied: widgetsnbextension~=4.0 in /opt/homebrew/lib/python3.9/site-packages (from ipywidgets->jupyter) (4.0.1)\n",
      "Requirement already satisfied: jupyterlab-widgets~=3.0 in /opt/homebrew/lib/python3.9/site-packages (from ipywidgets->jupyter) (3.0.1)\n",
      "Requirement already satisfied: prompt-toolkit!=3.0.0,!=3.0.1,<3.1.0,>=2.0.0 in /opt/homebrew/lib/python3.9/site-packages (from jupyter-console->jupyter) (3.0.30)\n",
      "Requirement already satisfied: pygments in /opt/homebrew/lib/python3.9/site-packages (from jupyter-console->jupyter) (2.13.0)\n",
      "Requirement already satisfied: beautifulsoup4 in /opt/homebrew/lib/python3.9/site-packages (from nbconvert->jupyter) (4.11.1)\n",
      "Requirement already satisfied: tinycss2 in /opt/homebrew/lib/python3.9/site-packages (from nbconvert->jupyter) (1.1.1)\n",
      "Requirement already satisfied: jupyter-core>=4.7 in /opt/homebrew/lib/python3.9/site-packages (from nbconvert->jupyter) (4.11.1)\n",
      "Requirement already satisfied: entrypoints>=0.2.2 in /opt/homebrew/lib/python3.9/site-packages (from nbconvert->jupyter) (0.4)\n",
      "Requirement already satisfied: defusedxml in /opt/homebrew/lib/python3.9/site-packages (from nbconvert->jupyter) (0.7.1)\n",
      "Requirement already satisfied: lxml in /opt/homebrew/lib/python3.9/site-packages (from nbconvert->jupyter) (4.9.1)\n",
      "Requirement already satisfied: MarkupSafe>=2.0 in /opt/homebrew/lib/python3.9/site-packages (from nbconvert->jupyter) (2.1.1)\n",
      "Requirement already satisfied: jupyterlab-pygments in /opt/homebrew/lib/python3.9/site-packages (from nbconvert->jupyter) (0.2.2)\n",
      "Requirement already satisfied: jinja2>=3.0 in /opt/homebrew/lib/python3.9/site-packages (from nbconvert->jupyter) (3.1.2)\n",
      "Requirement already satisfied: nbclient>=0.5.0 in /opt/homebrew/lib/python3.9/site-packages (from nbconvert->jupyter) (0.6.6)\n",
      "Requirement already satisfied: nbformat>=5.1 in /opt/homebrew/lib/python3.9/site-packages (from nbconvert->jupyter) (5.4.0)\n",
      "Requirement already satisfied: pandocfilters>=1.4.1 in /opt/homebrew/lib/python3.9/site-packages (from nbconvert->jupyter) (1.5.0)\n",
      "Requirement already satisfied: bleach in /opt/homebrew/lib/python3.9/site-packages (from nbconvert->jupyter) (5.0.1)\n",
      "Requirement already satisfied: mistune<2,>=0.8.1 in /opt/homebrew/lib/python3.9/site-packages (from nbconvert->jupyter) (0.8.4)\n",
      "Requirement already satisfied: prometheus-client in /opt/homebrew/lib/python3.9/site-packages (from notebook->jupyter) (0.14.1)\n",
      "Requirement already satisfied: argon2-cffi in /opt/homebrew/lib/python3.9/site-packages (from notebook->jupyter) (21.3.0)\n",
      "Requirement already satisfied: terminado>=0.8.3 in /opt/homebrew/lib/python3.9/site-packages (from notebook->jupyter) (0.15.0)\n",
      "Requirement already satisfied: ipython-genutils in /opt/homebrew/lib/python3.9/site-packages (from notebook->jupyter) (0.2.0)\n",
      "Requirement already satisfied: Send2Trash>=1.8.0 in /opt/homebrew/lib/python3.9/site-packages (from notebook->jupyter) (1.8.0)\n",
      "Requirement already satisfied: qtpy>=2.0.1 in /opt/homebrew/lib/python3.9/site-packages (from qtconsole->jupyter) (2.2.0)\n",
      "Requirement already satisfied: jedi>=0.16 in /opt/homebrew/lib/python3.9/site-packages (from ipython>=7.23.1->ipykernel->jupyter) (0.18.1)\n",
      "Requirement already satisfied: pickleshare in /opt/homebrew/lib/python3.9/site-packages (from ipython>=7.23.1->ipykernel->jupyter) (0.7.5)\n",
      "Requirement already satisfied: backcall in /opt/homebrew/lib/python3.9/site-packages (from ipython>=7.23.1->ipykernel->jupyter) (0.2.0)\n",
      "Requirement already satisfied: stack-data in /opt/homebrew/lib/python3.9/site-packages (from ipython>=7.23.1->ipykernel->jupyter) (0.4.0)\n",
      "Requirement already satisfied: pexpect>4.3 in /opt/homebrew/lib/python3.9/site-packages (from ipython>=7.23.1->ipykernel->jupyter) (4.8.0)\n",
      "Requirement already satisfied: decorator in /opt/homebrew/lib/python3.9/site-packages (from ipython>=7.23.1->ipykernel->jupyter) (5.1.1)\n",
      "Requirement already satisfied: setuptools>=18.5 in /opt/homebrew/lib/python3.9/site-packages (from ipython>=7.23.1->ipykernel->jupyter) (60.10.0)\n",
      "Requirement already satisfied: python-dateutil>=2.8.2 in /opt/homebrew/lib/python3.9/site-packages (from jupyter-client>=6.1.12->ipykernel->jupyter) (2.8.2)\n",
      "Requirement already satisfied: fastjsonschema in /opt/homebrew/lib/python3.9/site-packages (from nbformat>=5.1->nbconvert->jupyter) (2.16.1)\n",
      "Requirement already satisfied: jsonschema>=2.6 in /opt/homebrew/lib/python3.9/site-packages (from nbformat>=5.1->nbconvert->jupyter) (4.12.1)\n",
      "Requirement already satisfied: wcwidth in /opt/homebrew/lib/python3.9/site-packages (from prompt-toolkit!=3.0.0,!=3.0.1,<3.1.0,>=2.0.0->jupyter-console->jupyter) (0.2.5)\n",
      "Requirement already satisfied: ptyprocess in /opt/homebrew/lib/python3.9/site-packages (from terminado>=0.8.3->notebook->jupyter) (0.7.0)\n",
      "Requirement already satisfied: argon2-cffi-bindings in /opt/homebrew/lib/python3.9/site-packages (from argon2-cffi->notebook->jupyter) (21.2.0)\n",
      "Requirement already satisfied: soupsieve>1.2 in /opt/homebrew/lib/python3.9/site-packages (from beautifulsoup4->nbconvert->jupyter) (2.3.2.post1)\n",
      "Requirement already satisfied: six>=1.9.0 in /opt/homebrew/lib/python3.9/site-packages (from bleach->nbconvert->jupyter) (1.16.0)\n",
      "Requirement already satisfied: webencodings in /opt/homebrew/lib/python3.9/site-packages (from bleach->nbconvert->jupyter) (0.5.1)\n",
      "Requirement already satisfied: pyparsing!=3.0.5,>=2.0.2 in /opt/homebrew/lib/python3.9/site-packages (from packaging->ipykernel->jupyter) (3.0.7)\n",
      "Requirement already satisfied: parso<0.9.0,>=0.8.0 in /opt/homebrew/lib/python3.9/site-packages (from jedi>=0.16->ipython>=7.23.1->ipykernel->jupyter) (0.8.3)\n",
      "Requirement already satisfied: attrs>=17.4.0 in /opt/homebrew/lib/python3.9/site-packages (from jsonschema>=2.6->nbformat>=5.1->nbconvert->jupyter) (22.1.0)\n",
      "Requirement already satisfied: pyrsistent!=0.17.0,!=0.17.1,!=0.17.2,>=0.14.0 in /opt/homebrew/lib/python3.9/site-packages (from jsonschema>=2.6->nbformat>=5.1->nbconvert->jupyter) (0.18.1)\n",
      "Requirement already satisfied: cffi>=1.0.1 in /opt/homebrew/lib/python3.9/site-packages (from argon2-cffi-bindings->argon2-cffi->notebook->jupyter) (1.15.1)\n",
      "Requirement already satisfied: asttokens in /opt/homebrew/lib/python3.9/site-packages (from stack-data->ipython>=7.23.1->ipykernel->jupyter) (2.0.8)\n",
      "Requirement already satisfied: executing in /opt/homebrew/lib/python3.9/site-packages (from stack-data->ipython>=7.23.1->ipykernel->jupyter) (0.10.0)\n",
      "Requirement already satisfied: pure-eval in /opt/homebrew/lib/python3.9/site-packages (from stack-data->ipython>=7.23.1->ipykernel->jupyter) (0.2.2)\n",
      "Requirement already satisfied: pycparser in /opt/homebrew/lib/python3.9/site-packages (from cffi>=1.0.1->argon2-cffi-bindings->argon2-cffi->notebook->jupyter) (2.21)\n",
      "\u001b[33mDEPRECATION: Configuring installation scheme with distutils config files is deprecated and will no longer work in the near future. If you are using a Homebrew or Linuxbrew Python, please see discussion at https://github.com/Homebrew/homebrew-core/issues/76621\u001b[0m\u001b[33m\n",
      "\u001b[0m\u001b[33mWARNING: You are using pip version 22.0.4; however, version 22.2.2 is available.\n",
      "You should consider upgrading via the '/opt/homebrew/opt/python@3.9/bin/python3.9 -m pip install --upgrade pip' command.\u001b[0m\u001b[33m\n",
      "\u001b[0m"
     ]
    }
   ],
   "source": [
    "# !pip install jupyter\n",
    "!pip3 install jupyter\n",
    "#jupyternotebook"
   ]
  },
  {
   "cell_type": "markdown",
   "metadata": {},
   "source": [
    "### 절차적 프로그래밍\n",
    "파이썬은 정해진 순서에 따라 명령을 내린다"
   ]
  },
  {
   "cell_type": "code",
   "execution_count": 5,
   "metadata": {},
   "outputs": [
    {
     "data": {
      "text/plain": [
       "7"
      ]
     },
     "execution_count": 5,
     "metadata": {},
     "output_type": "execute_result"
    }
   ],
   "source": [
    "i = 3\n",
    "j = i + 1\n",
    "i + j"
   ]
  },
  {
   "cell_type": "markdown",
   "metadata": {},
   "source": [
    "#### 변수"
   ]
  },
  {
   "cell_type": "code",
   "execution_count": 6,
   "metadata": {},
   "outputs": [
    {
     "data": {
      "text/plain": [
       "'echo'"
      ]
     },
     "execution_count": 6,
     "metadata": {},
     "output_type": "execute_result"
    }
   ],
   "source": [
    "dog_name = \"echo\"\n",
    "dog_name"
   ]
  },
  {
   "cell_type": "code",
   "execution_count": 7,
   "metadata": {},
   "outputs": [
    {
     "data": {
      "text/plain": [
       "'echo2'"
      ]
     },
     "execution_count": 7,
     "metadata": {},
     "output_type": "execute_result"
    }
   ],
   "source": [
    "dog_name = \"echo2\"\n",
    "dog_name"
   ]
  },
  {
   "cell_type": "code",
   "execution_count": 8,
   "metadata": {},
   "outputs": [
    {
     "data": {
      "text/plain": [
       "'newecho2'"
      ]
     },
     "execution_count": 8,
     "metadata": {},
     "output_type": "execute_result"
    }
   ],
   "source": [
    "dog_name = \"new\" + dog_name\n",
    "dog_name"
   ]
  },
  {
   "cell_type": "markdown",
   "metadata": {},
   "source": [
    "##### 파이썬은 동적 타이핑을 지원함"
   ]
  },
  {
   "cell_type": "code",
   "execution_count": 9,
   "metadata": {},
   "outputs": [
    {
     "name": "stdout",
     "output_type": "stream",
     "text": [
      "large <class 'str'>\n"
     ]
    }
   ],
   "source": [
    "big = \"large\"\n",
    "print(big, type(big))"
   ]
  },
  {
   "cell_type": "code",
   "execution_count": 10,
   "metadata": {},
   "outputs": [
    {
     "name": "stdout",
     "output_type": "stream",
     "text": [
      "1000000 <class 'int'>\n"
     ]
    }
   ],
   "source": [
    "big = 1000 * 1000\n",
    "print(big, type(big))"
   ]
  },
  {
   "cell_type": "code",
   "execution_count": 11,
   "metadata": {},
   "outputs": [
    {
     "name": "stdout",
     "output_type": "stream",
     "text": [
      "{} <class 'dict'>\n"
     ]
    }
   ],
   "source": [
    "big = {}\n",
    "print(big, type(big))"
   ]
  }
 ],
 "metadata": {
  "kernelspec": {
   "display_name": "Python 3.9.9 64-bit",
   "language": "python",
   "name": "python3"
  },
  "language_info": {
   "codemirror_mode": {
    "name": "ipython",
    "version": 3
   },
   "file_extension": ".py",
   "mimetype": "text/x-python",
   "name": "python",
   "nbconvert_exporter": "python",
   "pygments_lexer": "ipython3",
   "version": "3.9.12"
  },
  "orig_nbformat": 4,
  "vscode": {
   "interpreter": {
    "hash": "b0fa6594d8f4cbf19f97940f81e996739fb7646882a419484c72d19e05852a7e"
   }
  }
 },
 "nbformat": 4,
 "nbformat_minor": 2
}
